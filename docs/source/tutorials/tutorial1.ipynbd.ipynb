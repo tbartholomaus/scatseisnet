{
 "cells": [
  {
   "cell_type": "code",
   "execution_count": 1,
   "metadata": {},
   "outputs": [],
   "source": [
    "import os\n",
    "import pickle\n",
    "\n",
    "import matplotlib.pyplot as plt\n",
    "import numpy as np\n",
    "\n",
    "from scatseisnet import ScatteringNetwork"
   ]
  },
  {
   "cell_type": "code",
   "execution_count": 2,
   "metadata": {},
   "outputs": [],
   "source": [
    "segment_duration_seconds = 20.0\n",
    "sampling_rate_hertz = 50.0\n",
    "samples_per_segment = int(segment_duration_seconds * sampling_rate_hertz)\n",
    "bank_keyword_arguments = (\n",
    "    {\"octaves\": 4, \"resolution\": 4, \"quality\": 1},\n",
    "    {\"octaves\": 5, \"resolution\": 2, \"quality\": 3},\n",
    ")"
   ]
  },
  {
   "cell_type": "code",
   "execution_count": 3,
   "metadata": {},
   "outputs": [
    {
     "name": "stdout",
     "output_type": "stream",
     "text": [
      "ScatteringNetwork(bins=1000, sampling_rate=50.0, len=2)\n",
      "ComplexMorletBank(bins=1000, octaves=4, resolution=4, quality=1, sampling_rate=50.0, len=16)\n",
      "ComplexMorletBank(bins=1000, octaves=5, resolution=2, quality=3, sampling_rate=50.0, len=10)\n"
     ]
    }
   ],
   "source": [
    "network = ScatteringNetwork(\n",
    "    *bank_keyword_arguments,\n",
    "    bins=samples_per_segment,\n",
    "    sampling_rate=sampling_rate_hertz,\n",
    ")\n",
    "\n",
    "print(network)"
   ]
  },
  {
   "cell_type": "code",
   "execution_count": 4,
   "metadata": {},
   "outputs": [],
   "source": [
    "dirpath_save = \"../example\"\n",
    "\n",
    "# Create directory to save the results\n",
    "os.makedirs(dirpath_save, exist_ok=True)\n",
    "\n",
    "# Save the scattering network with Pickle\n",
    "filepath_save = os.path.join(dirpath_save, \"scattering_network.pickle\")\n",
    "with open(filepath_save, \"wb\") as file_save:\n",
    "    pickle.dump(network, file_save, protocol=pickle.HIGHEST_PROTOCOL)\n",
    "    "
   ]
  },
  {
   "cell_type": "code",
   "execution_count": 5,
   "metadata": {},
   "outputs": [
    {
     "ename": "TypeError",
     "evalue": "Implicit conversion to a NumPy array is not allowed. Please use `.get()` to construct a NumPy array explicitly.",
     "output_type": "error",
     "traceback": [
      "\u001b[0;31m---------------------------------------------------------------------------\u001b[0m",
      "\u001b[0;31mTypeError\u001b[0m                                 Traceback (most recent call last)",
      "\u001b[1;32m/data/stor/proj/IQ_classes/scripts/seydoux_approach/ssn_cloned_from_github/tests/tutorial_1_workaround.ipynb Cell 5\u001b[0m in \u001b[0;36m1\n\u001b[1;32m      <a href='vscode-notebook-cell://ssh-remote%2Bkennicott.ibest.uidaho.edu/data/stor/proj/IQ_classes/scripts/seydoux_approach/ssn_cloned_from_github/tests/tutorial_1_workaround.ipynb#W4sdnNjb2RlLXJlbW90ZQ%3D%3D?line=6'>7</a>\u001b[0m \u001b[39m# Show each wavelet\u001b[39;00m\n\u001b[1;32m      <a href='vscode-notebook-cell://ssh-remote%2Bkennicott.ibest.uidaho.edu/data/stor/proj/IQ_classes/scripts/seydoux_approach/ssn_cloned_from_github/tests/tutorial_1_workaround.ipynb#W4sdnNjb2RlLXJlbW90ZQ%3D%3D?line=7'>8</a>\u001b[0m \u001b[39mfor\u001b[39;00m wavelet, spectrum, ratio \u001b[39min\u001b[39;00m \u001b[39mzip\u001b[39m(\n\u001b[1;32m      <a href='vscode-notebook-cell://ssh-remote%2Bkennicott.ibest.uidaho.edu/data/stor/proj/IQ_classes/scripts/seydoux_approach/ssn_cloned_from_github/tests/tutorial_1_workaround.ipynb#W4sdnNjb2RlLXJlbW90ZQ%3D%3D?line=8'>9</a>\u001b[0m     bank\u001b[39m.\u001b[39mwavelets, bank\u001b[39m.\u001b[39mspectra, bank\u001b[39m.\u001b[39mratios\n\u001b[1;32m     <a href='vscode-notebook-cell://ssh-remote%2Bkennicott.ibest.uidaho.edu/data/stor/proj/IQ_classes/scripts/seydoux_approach/ssn_cloned_from_github/tests/tutorial_1_workaround.ipynb#W4sdnNjb2RlLXJlbW90ZQ%3D%3D?line=9'>10</a>\u001b[0m ):\n\u001b[1;32m     <a href='vscode-notebook-cell://ssh-remote%2Bkennicott.ibest.uidaho.edu/data/stor/proj/IQ_classes/scripts/seydoux_approach/ssn_cloned_from_github/tests/tutorial_1_workaround.ipynb#W4sdnNjb2RlLXJlbW90ZQ%3D%3D?line=10'>11</a>\u001b[0m \n\u001b[1;32m     <a href='vscode-notebook-cell://ssh-remote%2Bkennicott.ibest.uidaho.edu/data/stor/proj/IQ_classes/scripts/seydoux_approach/ssn_cloned_from_github/tests/tutorial_1_workaround.ipynb#W4sdnNjb2RlLXJlbW90ZQ%3D%3D?line=11'>12</a>\u001b[0m     \u001b[39m# Time domain\u001b[39;00m\n\u001b[0;32m---> <a href='vscode-notebook-cell://ssh-remote%2Bkennicott.ibest.uidaho.edu/data/stor/proj/IQ_classes/scripts/seydoux_approach/ssn_cloned_from_github/tests/tutorial_1_workaround.ipynb#W4sdnNjb2RlLXJlbW90ZQ%3D%3D?line=12'>13</a>\u001b[0m     ax[\u001b[39m0\u001b[39;49m]\u001b[39m.\u001b[39;49mplot(bank\u001b[39m.\u001b[39;49mtimes, wavelet\u001b[39m.\u001b[39;49mreal \u001b[39m+\u001b[39;49m ratio, \u001b[39m\"\u001b[39;49m\u001b[39mC0\u001b[39;49m\u001b[39m\"\u001b[39;49m)\n\u001b[1;32m     <a href='vscode-notebook-cell://ssh-remote%2Bkennicott.ibest.uidaho.edu/data/stor/proj/IQ_classes/scripts/seydoux_approach/ssn_cloned_from_github/tests/tutorial_1_workaround.ipynb#W4sdnNjb2RlLXJlbW90ZQ%3D%3D?line=14'>15</a>\u001b[0m     \u001b[39m# Spectral domain (log of amplitude)\u001b[39;00m\n\u001b[1;32m     <a href='vscode-notebook-cell://ssh-remote%2Bkennicott.ibest.uidaho.edu/data/stor/proj/IQ_classes/scripts/seydoux_approach/ssn_cloned_from_github/tests/tutorial_1_workaround.ipynb#W4sdnNjb2RlLXJlbW90ZQ%3D%3D?line=15'>16</a>\u001b[0m     ax[\u001b[39m1\u001b[39m]\u001b[39m.\u001b[39mplot(bank\u001b[39m.\u001b[39mfrequencies, np\u001b[39m.\u001b[39mlog(np\u001b[39m.\u001b[39mabs(spectrum) \u001b[39m+\u001b[39m \u001b[39m1\u001b[39m) \u001b[39m+\u001b[39m ratio, \u001b[39m\"\u001b[39m\u001b[39mC0\u001b[39m\u001b[39m\"\u001b[39m)\n",
      "File \u001b[0;32m/opt/anaconda/envs/scatseisnet230330_cupy/lib/python3.11/site-packages/matplotlib/axes/_axes.py:1664\u001b[0m, in \u001b[0;36mAxes.plot\u001b[0;34m(self, scalex, scaley, data, *args, **kwargs)\u001b[0m\n\u001b[1;32m   1662\u001b[0m lines \u001b[39m=\u001b[39m [\u001b[39m*\u001b[39m\u001b[39mself\u001b[39m\u001b[39m.\u001b[39m_get_lines(\u001b[39m*\u001b[39margs, data\u001b[39m=\u001b[39mdata, \u001b[39m*\u001b[39m\u001b[39m*\u001b[39mkwargs)]\n\u001b[1;32m   1663\u001b[0m \u001b[39mfor\u001b[39;00m line \u001b[39min\u001b[39;00m lines:\n\u001b[0;32m-> 1664\u001b[0m     \u001b[39mself\u001b[39;49m\u001b[39m.\u001b[39;49madd_line(line)\n\u001b[1;32m   1665\u001b[0m \u001b[39mif\u001b[39;00m scalex:\n\u001b[1;32m   1666\u001b[0m     \u001b[39mself\u001b[39m\u001b[39m.\u001b[39m_request_autoscale_view(\u001b[39m\"\u001b[39m\u001b[39mx\u001b[39m\u001b[39m\"\u001b[39m)\n",
      "File \u001b[0;32m/opt/anaconda/envs/scatseisnet230330_cupy/lib/python3.11/site-packages/matplotlib/axes/_base.py:2340\u001b[0m, in \u001b[0;36m_AxesBase.add_line\u001b[0;34m(self, line)\u001b[0m\n\u001b[1;32m   2337\u001b[0m \u001b[39mif\u001b[39;00m line\u001b[39m.\u001b[39mget_clip_path() \u001b[39mis\u001b[39;00m \u001b[39mNone\u001b[39;00m:\n\u001b[1;32m   2338\u001b[0m     line\u001b[39m.\u001b[39mset_clip_path(\u001b[39mself\u001b[39m\u001b[39m.\u001b[39mpatch)\n\u001b[0;32m-> 2340\u001b[0m \u001b[39mself\u001b[39;49m\u001b[39m.\u001b[39;49m_update_line_limits(line)\n\u001b[1;32m   2341\u001b[0m \u001b[39mif\u001b[39;00m \u001b[39mnot\u001b[39;00m line\u001b[39m.\u001b[39mget_label():\n\u001b[1;32m   2342\u001b[0m     line\u001b[39m.\u001b[39mset_label(\u001b[39mf\u001b[39m\u001b[39m'\u001b[39m\u001b[39m_child\u001b[39m\u001b[39m{\u001b[39;00m\u001b[39mlen\u001b[39m(\u001b[39mself\u001b[39m\u001b[39m.\u001b[39m_children)\u001b[39m}\u001b[39;00m\u001b[39m'\u001b[39m)\n",
      "File \u001b[0;32m/opt/anaconda/envs/scatseisnet230330_cupy/lib/python3.11/site-packages/matplotlib/axes/_base.py:2363\u001b[0m, in \u001b[0;36m_AxesBase._update_line_limits\u001b[0;34m(self, line)\u001b[0m\n\u001b[1;32m   2359\u001b[0m \u001b[39mdef\u001b[39;00m \u001b[39m_update_line_limits\u001b[39m(\u001b[39mself\u001b[39m, line):\n\u001b[1;32m   2360\u001b[0m     \u001b[39m\"\"\"\u001b[39;00m\n\u001b[1;32m   2361\u001b[0m \u001b[39m    Figures out the data limit of the given line, updating self.dataLim.\u001b[39;00m\n\u001b[1;32m   2362\u001b[0m \u001b[39m    \"\"\"\u001b[39;00m\n\u001b[0;32m-> 2363\u001b[0m     path \u001b[39m=\u001b[39m line\u001b[39m.\u001b[39;49mget_path()\n\u001b[1;32m   2364\u001b[0m     \u001b[39mif\u001b[39;00m path\u001b[39m.\u001b[39mvertices\u001b[39m.\u001b[39msize \u001b[39m==\u001b[39m \u001b[39m0\u001b[39m:\n\u001b[1;32m   2365\u001b[0m         \u001b[39mreturn\u001b[39;00m\n",
      "File \u001b[0;32m/opt/anaconda/envs/scatseisnet230330_cupy/lib/python3.11/site-packages/matplotlib/lines.py:1031\u001b[0m, in \u001b[0;36mLine2D.get_path\u001b[0;34m(self)\u001b[0m\n\u001b[1;32m   1029\u001b[0m \u001b[39m\"\"\"Return the `~matplotlib.path.Path` associated with this line.\"\"\"\u001b[39;00m\n\u001b[1;32m   1030\u001b[0m \u001b[39mif\u001b[39;00m \u001b[39mself\u001b[39m\u001b[39m.\u001b[39m_invalidy \u001b[39mor\u001b[39;00m \u001b[39mself\u001b[39m\u001b[39m.\u001b[39m_invalidx:\n\u001b[0;32m-> 1031\u001b[0m     \u001b[39mself\u001b[39;49m\u001b[39m.\u001b[39;49mrecache()\n\u001b[1;32m   1032\u001b[0m \u001b[39mreturn\u001b[39;00m \u001b[39mself\u001b[39m\u001b[39m.\u001b[39m_path\n",
      "File \u001b[0;32m/opt/anaconda/envs/scatseisnet230330_cupy/lib/python3.11/site-packages/matplotlib/lines.py:664\u001b[0m, in \u001b[0;36mLine2D.recache\u001b[0;34m(self, always)\u001b[0m\n\u001b[1;32m    662\u001b[0m \u001b[39mif\u001b[39;00m always \u001b[39mor\u001b[39;00m \u001b[39mself\u001b[39m\u001b[39m.\u001b[39m_invalidy:\n\u001b[1;32m    663\u001b[0m     yconv \u001b[39m=\u001b[39m \u001b[39mself\u001b[39m\u001b[39m.\u001b[39mconvert_yunits(\u001b[39mself\u001b[39m\u001b[39m.\u001b[39m_yorig)\n\u001b[0;32m--> 664\u001b[0m     y \u001b[39m=\u001b[39m _to_unmasked_float_array(yconv)\u001b[39m.\u001b[39mravel()\n\u001b[1;32m    665\u001b[0m \u001b[39melse\u001b[39;00m:\n\u001b[1;32m    666\u001b[0m     y \u001b[39m=\u001b[39m \u001b[39mself\u001b[39m\u001b[39m.\u001b[39m_y\n",
      "File \u001b[0;32m/opt/anaconda/envs/scatseisnet230330_cupy/lib/python3.11/site-packages/matplotlib/cbook/__init__.py:1369\u001b[0m, in \u001b[0;36m_to_unmasked_float_array\u001b[0;34m(x)\u001b[0m\n\u001b[1;32m   1367\u001b[0m     \u001b[39mreturn\u001b[39;00m np\u001b[39m.\u001b[39mma\u001b[39m.\u001b[39masarray(x, \u001b[39mfloat\u001b[39m)\u001b[39m.\u001b[39mfilled(np\u001b[39m.\u001b[39mnan)\n\u001b[1;32m   1368\u001b[0m \u001b[39melse\u001b[39;00m:\n\u001b[0;32m-> 1369\u001b[0m     \u001b[39mreturn\u001b[39;00m np\u001b[39m.\u001b[39masarray(x, \u001b[39mfloat\u001b[39m)\n",
      "File \u001b[0;32mcupy/_core/core.pyx:1473\u001b[0m, in \u001b[0;36mcupy._core.core._ndarray_base.__array__\u001b[0;34m()\u001b[0m\n",
      "\u001b[0;31mTypeError\u001b[0m: Implicit conversion to a NumPy array is not allowed. Please use `.get()` to construct a NumPy array explicitly."
     ]
    },
    {
     "data": {
      "image/png": "[encoded data removed]",
      "text/plain": [
       "<Figure size 640x480 with 2 Axes>"
      ]
     },
     "metadata": {},
     "output_type": "display_data"
    }
   ],
   "source": [
    "# Loop over network layers\n",
    "for bank in network.banks:\n",
    "\n",
    "    # Create axes (left for temporal, right for spectral domain)\n",
    "    fig, ax = plt.subplots(1, 2, sharey=True)\n",
    "\n",
    "    # Show each wavelet\n",
    "    for wavelet, spectrum, ratio in zip(\n",
    "        bank.wavelets, bank.spectra, bank.ratios\n",
    "    ):\n",
    "\n",
    "        # Time domain\n",
    "        ax[0].plot(bank.times, wavelet.real + ratio, \"C0\")\n",
    "\n",
    "        # Spectral domain (log of amplitude)\n",
    "        ax[1].plot(bank.frequencies, np.log(np.abs(spectrum) + 1) + ratio, \"C0\")\n",
    "\n",
    "    # Limit view to three times the temporal width of largest wavelet\n",
    "    width_max = 3 * bank.widths.max()\n",
    "\n",
    "    # Labels\n",
    "    ax[0].set_ylabel(\"Octaves (base 2 log)\")\n",
    "    ax[0].set_xlabel(\"Time (seconds)\")\n",
    "    ax[0].set_xlim(-width_max, width_max)\n",
    "    ax[0].grid()\n",
    "    ax[1].set_xscale(\"log\")\n",
    "    ax[1].set_xlabel(\"Frequency (Hz)\")\n",
    "    ax[1].grid()"
   ]
  },
  {
   "cell_type": "code",
   "execution_count": null,
   "metadata": {},
   "outputs": [],
   "source": []
  }
 ],
 "metadata": {
  "kernelspec": {
   "display_name": "scatseisnet230330_cupy",
   "language": "python",
   "name": "python3"
  },
  "language_info": {
   "codemirror_mode": {
    "name": "ipython",
    "version": 3
   },
   "file_extension": ".py",
   "mimetype": "text/x-python",
   "name": "python",
   "nbconvert_exporter": "python",
   "pygments_lexer": "ipython3",
   "version": "3.11.0"
  },
  "orig_nbformat": 4
 },
 "nbformat": 4,
 "nbformat_minor": 2
}
